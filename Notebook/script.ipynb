{
  "cells": [
    {
      "cell_type": "markdown",
      "metadata": {
        "id": "52uPtYqvFHpb"
      },
      "source": [
        "<h4>Code</h4>"
      ]
    },
    {
      "cell_type": "code",
      "source": [
        "import librosa\n",
        "import numpy as np\n",
        "import pydub\n",
        "from pydub import AudioSegment\n",
        "\n",
        "\n",
        "def extract_features(file_path):\n",
        "  \"\"\"Extracts features from an audio file.\n",
        "\n",
        "  Args:\n",
        "    file_path: Path to the audio file.\n",
        "\n",
        "  Returns:\n",
        "    A numpy array of features.\n",
        "  \"\"\"\n",
        "  try:\n",
        "      # Load the audio file using librosa\n",
        "      y, sr = librosa.load(file_path)\n",
        "\n",
        "      # Extract MFCCs\n",
        "      mfccs = librosa.feature.mfcc(y=y, sr=sr, n_mfcc=13)\n",
        "      mfccs_processed = np.mean(mfccs.T, axis=0)\n",
        "\n",
        "      return mfccs_processed\n",
        "  except Exception as e:\n",
        "      print(\"Error encountered while parsing file: \", file_path)\n",
        "      return None\n",
        "\n",
        "  def identify_song(audio_input_path, database_path):\n",
        "\n",
        "  # Extract features from the audio input\n",
        "    input_features = extract_features(audio_input_path)\n",
        "\n",
        "  # Loop over the song database to compare against each sample:\n",
        "    # Extract features of the current song database file to check against\n",
        "    # Calculate the similarity between features from the song database entry and features from the user audio file to detect for match\n",
        "\n",
        "    print(\"Song identified!\")\n",
        "\n",
        "#extract features\n",
        "if __name__ == \"__main__\":\n",
        "\n",
        "  extract_features(\"sample.wav\")\n",
        "\n",
        "  #identify song\n",
        "  identify_song(\"sample.wav\", \"database\")"
      ],
      "metadata": {
        "colab": {
          "base_uri": "https://localhost:8080/",
          "height": 393
        },
        "id": "IRS8Ro5lFhOE",
        "outputId": "5b128f0f-a254-4bac-b846-fd883b1a4962"
      },
      "execution_count": 2,
      "outputs": [
        {
          "output_type": "error",
          "ename": "ModuleNotFoundError",
          "evalue": "No module named 'pydub'",
          "traceback": [
            "\u001b[0;31m---------------------------------------------------------------------------\u001b[0m",
            "\u001b[0;31mModuleNotFoundError\u001b[0m                       Traceback (most recent call last)",
            "\u001b[0;32m<ipython-input-2-dc80542c1fbf>\u001b[0m in \u001b[0;36m<cell line: 0>\u001b[0;34m()\u001b[0m\n\u001b[1;32m      1\u001b[0m \u001b[0;32mimport\u001b[0m \u001b[0mlibrosa\u001b[0m\u001b[0;34m\u001b[0m\u001b[0;34m\u001b[0m\u001b[0m\n\u001b[1;32m      2\u001b[0m \u001b[0;32mimport\u001b[0m \u001b[0mnumpy\u001b[0m \u001b[0;32mas\u001b[0m \u001b[0mnp\u001b[0m\u001b[0;34m\u001b[0m\u001b[0;34m\u001b[0m\u001b[0m\n\u001b[0;32m----> 3\u001b[0;31m \u001b[0;32mimport\u001b[0m \u001b[0mpydub\u001b[0m\u001b[0;34m\u001b[0m\u001b[0;34m\u001b[0m\u001b[0m\n\u001b[0m\u001b[1;32m      4\u001b[0m \u001b[0;32mfrom\u001b[0m \u001b[0mpydub\u001b[0m \u001b[0;32mimport\u001b[0m \u001b[0mAudioSegment\u001b[0m\u001b[0;34m\u001b[0m\u001b[0;34m\u001b[0m\u001b[0m\n\u001b[1;32m      5\u001b[0m \u001b[0;34m\u001b[0m\u001b[0m\n",
            "\u001b[0;31mModuleNotFoundError\u001b[0m: No module named 'pydub'",
            "",
            "\u001b[0;31m---------------------------------------------------------------------------\u001b[0;32m\nNOTE: If your import is failing due to a missing package, you can\nmanually install dependencies using either !pip or !apt.\n\nTo view examples of installing some common dependencies, click the\n\"Open Examples\" button below.\n\u001b[0;31m---------------------------------------------------------------------------\u001b[0m\n"
          ],
          "errorDetails": {
            "actions": [
              {
                "action": "open_url",
                "actionText": "Open Examples",
                "url": "/notebooks/snippets/importing_libraries.ipynb"
              }
            ]
          }
        }
      ]
    }
  ],
  "metadata": {
    "language_info": {
      "name": "python"
    },
    "colab": {
      "provenance": []
    },
    "kernelspec": {
      "name": "python3",
      "display_name": "Python 3"
    }
  },
  "nbformat": 4,
  "nbformat_minor": 0
}