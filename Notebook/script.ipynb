{
  "cells": [
    {
      "cell_type": "markdown",
      "metadata": {
        "id": "52uPtYqvFHpb"
      },
      "source": [
        "<h4>Code</h4>"
      ]
    },
    {
      "cell_type": "code",
      "execution_count": 5,
      "metadata": {
        "colab": {
          "base_uri": "https://localhost:8080/",
          "height": 393
        },
        "id": "IRS8Ro5lFhOE",
        "outputId": "5b128f0f-a254-4bac-b846-fd883b1a4962"
      },
      "outputs": [
        {
          "name": "stdout",
          "output_type": "stream",
          "text": [
            "Error encountered while parsing file:  sample.wav\n",
            "Error encountered while parsing file:  sample.wav\n",
            "Song identified!\n"
          ]
        },
        {
          "name": "stderr",
          "output_type": "stream",
          "text": [
            "C:\\Users\\suraj\\AppData\\Local\\Temp\\ipykernel_4464\\3626375028.py:18: UserWarning: PySoundFile failed. Trying audioread instead.\n",
            "  y, sr = librosa.load(file_path)\n"
          ]
        }
      ],
      "source": [
        "import librosa\n",
        "import numpy as np\n",
        "import pydub\n",
        "from pydub import AudioSegment\n",
        "\n",
        "\n",
        "def extract_features(file_path):\n",
        "  \"\"\"Extracts features from an audio file.\n",
        "\n",
        "  Args:\n",
        "    file_path: Path to the audio file.\n",
        "\n",
        "  Returns:\n",
        "    A numpy array of features.\n",
        "  \"\"\"\n",
        "  try:\n",
        "      # Load the audio file using librosa\n",
        "      y, sr = librosa.load(file_path)\n",
        "\n",
        "      # Extract MFCCs\n",
        "      mfccs = librosa.feature.mfcc(y=y, sr=sr, n_mfcc=13)\n",
        "      mfccs_processed = np.mean(mfccs.T, axis=0)\n",
        "\n",
        "      return mfccs_processed\n",
        "  except Exception as e:\n",
        "      print(\"Error encountered while parsing file: \", file_path)\n",
        "      return None\n",
        "\n",
        "def identify_song(audio_input_path, database_path):\n",
        "\n",
        "  # Extract features from the audio input\n",
        "  input_features = extract_features(audio_input_path)\n",
        "\n",
        "  # Loop over the song database to compare against each sample:\n",
        "    # Extract features of the current song database file to check against\n",
        "    # Calculate the similarity between features from the song database entry and features from the user audio file to detect for match\n",
        "\n",
        "  print(\"Song identified!\")\n",
        "\n",
        "#extract features\n",
        "if __name__ == \"__main__\":\n",
        "\n",
        "  extract_features(\"sample.wav\")\n",
        "\n",
        "  #identify song\n",
        "  identify_song(\"sample.wav\", \"database\")"
      ]
    }
  ],
  "metadata": {
    "colab": {
      "provenance": []
    },
    "kernelspec": {
      "display_name": "Python 3",
      "name": "python3"
    },
    "language_info": {
      "codemirror_mode": {
        "name": "ipython",
        "version": 3
      },
      "file_extension": ".py",
      "mimetype": "text/x-python",
      "name": "python",
      "nbconvert_exporter": "python",
      "pygments_lexer": "ipython3",
      "version": "3.11.2"
    }
  },
  "nbformat": 4,
  "nbformat_minor": 0
}
